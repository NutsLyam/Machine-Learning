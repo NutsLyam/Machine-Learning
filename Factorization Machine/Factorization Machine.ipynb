{
 "cells": [
  {
   "cell_type": "code",
   "execution_count": 1,
   "metadata": {
    "collapsed": true
   },
   "outputs": [],
   "source": [
    "import numpy as np\n",
    "import math\n",
    "import  re\n",
    "import time\n",
    "from sklearn.model_selection import KFold\n",
    "from scipy.sparse import csr_matrix\n",
    "from scipy.sparse import csc_matrix\n",
    "from scipy.sparse import coo_matrix\n",
    "from scipy.sparse import lil_matrix\n",
    "import time\n",
    "import math\n",
    "from tqdm import tqdm_notebook \n",
    "from sklearn.model_selection import train_test_split\n",
    "\n",
    "\n",
    "import matplotlib.pyplot as plt\n",
    "from IPython import display\n",
    "\n",
    "%matplotlib inline"
   ]
  },
  {
   "cell_type": "markdown",
   "metadata": {},
   "source": [
    " Функция foo_Y_v(...) возвращает $\\sum\\limits_{i=1}^n { \\sum\\limits_{j=i+ 1}^n { ( v_i, v_j) x_i x_j} }$\n",
    "\n",
    "$S = \\sum\\limits_{j=1}^n {v_{j,f} x_j}$"
   ]
  },
  {
   "cell_type": "code",
   "execution_count": 2,
   "metadata": {
    "collapsed": true
   },
   "outputs": [],
   "source": [
    "def foo_Y_v(X,S,V,N):\n",
    "    Sum = S.power(2).sum(axis = 1) - (X.power(2)*V.power(2)).sum(axis = 1) #((X.power(2))*V[:,f])\n",
    "    return Sum\n",
    "\n",
    "def foo_S(S,X,V):\n",
    "    for f in range(k):\n",
    "        S[:,f] = (X * V[:,f])  \n",
    "    return S\n",
    "\n"
   ]
  },
  {
   "cell_type": "markdown",
   "metadata": {},
   "source": [
    "# Градиенты"
   ]
  },
  {
   "cell_type": "code",
   "execution_count": 3,
   "metadata": {
    "collapsed": true
   },
   "outputs": [],
   "source": [
    "\n",
    "def grad_descent_W(X,dy, W, lyambda,n): \n",
    "    Wnew = W  + 2* lyambda * (X.T*dy) / n #np.dot(X.T,dy)/N\n",
    "    return Wnew\n",
    "\n",
    "# gradient for V[:,f], v - column V[:,f] \n",
    "def gradient_V (X,v,S):\n",
    "    \n",
    "    grad = X.multiply(S) - (X.power(2)).multiply(v.T) #S - vector S[:,f], v - vector\n",
    "    return grad\n",
    "    \n",
    "def grad_descent_V(X, dy,V, S, lyambda):\n",
    "    #print('1',V[:,f].shape, (g))\n",
    "    Vnew = V + 2 * lyambda * (gradient_V(X, V, S).T*dy) /nfeat  \n",
    "    #print(Vnew.shape) \n",
    "    return Vnew\n"
   ]
  },
  {
   "cell_type": "markdown",
   "metadata": {},
   "source": [
    "# RMSE, $R^2$"
   ]
  },
  {
   "cell_type": "code",
   "execution_count": 4,
   "metadata": {
    "collapsed": true
   },
   "outputs": [],
   "source": [
    "def foo_RMSE(Yt, Ypr):\n",
    "    dy = Yt-Ypr\n",
    "    s = np.power(dy,2).sum()\n",
    "    rmse = math.sqrt( s  / Yt.shape[0] )\n",
    "    return rmse\n",
    "\n",
    "\n",
    "def foo_R2(Yt,Ypr):\n",
    "    Ey = Yt.mean()\n",
    "    r2 = 1 - np.sum(np.power(Ypr-Yt,2)) / np.sum(np.power((Yt - Ey),2))\n",
    "    return r2"
   ]
  },
  {
   "cell_type": "markdown",
   "metadata": {},
   "source": [
    "# Данные"
   ]
  },
  {
   "cell_type": "code",
   "execution_count": 5,
   "metadata": {},
   "outputs": [
    {
     "data": {
      "application/vnd.jupyter.widget-view+json": {
       "model_id": "39a933d30aee4c36aacd378e3a9a8e88",
       "version_major": 2,
       "version_minor": 0
      },
      "text/plain": [
       "A Jupyter Widget"
      ]
     },
     "metadata": {},
     "output_type": "display_data"
    },
    {
     "name": "stdout",
     "output_type": "stream",
     "text": [
      "Time:  441.0612750053406\n"
     ]
    }
   ],
   "source": [
    "NumberCustomers = 480189\n",
    "NumberMovies = 17770 \n",
    "f = open('combined_data_1.txt','r')\n",
    "d = dict()\n",
    "n = -1 # col' number  (X' number of line)\n",
    "value = -1 #new CustomerID\n",
    "row = []\n",
    "col = []\n",
    "ratings = []\n",
    "start = time.time()\n",
    "\n",
    "for line in tqdm_notebook(f):\n",
    "    \n",
    "    result = re.match(r'\\d+:',line)\n",
    "    if result is not None:\n",
    "        MovieID = int(re.match(r'\\d+',result.group(0)).group(0))       \n",
    "    else:\n",
    "        if MovieID==3000:\n",
    "            break\n",
    "        SplitLine= re.split(r',',line,maxsplit=2)\n",
    "        KeyCustomerID = int(SplitLine[0])\n",
    "        if KeyCustomerID in d:\n",
    "            #search value by key\n",
    "            CustomerID = d[KeyCustomerID]     \n",
    "        else:\n",
    "            #add (key, value)\n",
    "            value+=1\n",
    "            d.update([(KeyCustomerID,value)])\n",
    "            CustomerID = value    \n",
    "        Rating = int(SplitLine[1])\n",
    "        n+=1\n",
    "        row.append(CustomerID)\n",
    "        col.append(n)\n",
    "        row.append(NumberCustomers + MovieID)\n",
    "        col.append(n)\n",
    "        ratings.append(Rating)\n",
    "        \n",
    "data = np.ones([len(row)])\n",
    "X = coo_matrix((data, (np.array(col), np.array(row))),dtype=np.int8) \n",
    "N = X.shape[0]\n",
    "Y = csr_matrix(np.array(ratings).reshape(N,1))\n",
    "Y = Y.todense()\n",
    "#X,Xtest, Y, Ytest = train_test_split(X,Y, test_size=0.2)\n",
    "end = time.time()\n",
    "print( 'Time: ', (end - start))\n"
   ]
  },
  {
   "cell_type": "code",
   "execution_count": 6,
   "metadata": {},
   "outputs": [
    {
     "data": {
      "text/plain": [
       "<15543024x483189 sparse matrix of type '<class 'numpy.int8'>'\n",
       "\twith 31086048 stored elements in COOrdinate format>"
      ]
     },
     "execution_count": 6,
     "metadata": {},
     "output_type": "execute_result"
    }
   ],
   "source": [
    "del d\n",
    "del col\n",
    "del row\n",
    "del data\n",
    "X"
   ]
  },
  {
   "cell_type": "markdown",
   "metadata": {},
   "source": [
    "# Инициализация"
   ]
  },
  {
   "cell_type": "code",
   "execution_count": 26,
   "metadata": {
    "collapsed": true
   },
   "outputs": [],
   "source": [
    "Stage = 1000 # \n",
    "batch_size = 20000\n",
    "k = 2\n",
    "test_part = 0.3\n",
    "\n",
    "train_size = int(batch_size*(1-test_part))\n",
    "test_size = int(batch_size*test_part)\n",
    "nstep = 0\n",
    "\n",
    "# learnig steps of each batch\n",
    "Nsteps = 20\n",
    "lyambda_W = 2e-1\n",
    "lyambda_V = 2e-3\n",
    "nfeat = X.shape[1]\n",
    "\n",
    "\n",
    "cost = []\n",
    "RMSEtrain = []\n",
    "RMSEtest = []\n",
    "R2train = []\n",
    "R2test = []\n",
    "time_list=[]"
   ]
  },
  {
   "cell_type": "markdown",
   "metadata": {},
   "source": [
    "\n",
    "# Преобразование в sparse_matrix"
   ]
  },
  {
   "cell_type": "code",
   "execution_count": 8,
   "metadata": {
    "collapsed": true
   },
   "outputs": [],
   "source": [
    "X = X.tocsr()"
   ]
  },
  {
   "cell_type": "code",
   "execution_count": 27,
   "metadata": {},
   "outputs": [
    {
     "name": "stdout",
     "output_type": "stream",
     "text": [
      "Total time:  0.1939096450805664\n"
     ]
    }
   ],
   "source": [
    "start = time.time()\n",
    "#X = X.tocsr()\n",
    "W = csr_matrix(np.ones(nfeat).reshape(nfeat,1)) \n",
    "V = csr_matrix(np.ones((nfeat,k)))\n",
    "S = lil_matrix(np.ones((train_size,k)))# lil\n",
    "Vnew = V.copy()\n",
    "\n",
    "end = time.time()\n",
    "print(\"Total time: \", time.time()-start)"
   ]
  },
  {
   "cell_type": "markdown",
   "metadata": {},
   "source": [
    "# Обучение"
   ]
  },
  {
   "cell_type": "code",
   "execution_count": 28,
   "metadata": {},
   "outputs": [
    {
     "data": {
      "image/png": "[encoded data removed]",
      "text/plain": [
       "<matplotlib.figure.Figure at 0x3b8e281eb8>"
      ]
     },
     "metadata": {},
     "output_type": "display_data"
    },
    {
     "name": "stdout",
     "output_type": "stream",
     "text": [
      "R2test: 0.087182\n"
     ]
    },
    {
     "data": {
      "image/png": "[encoded data removed]",
      "text/plain": [
       "<matplotlib.figure.Figure at 0x3b8eb0e9b0>"
      ]
     },
     "metadata": {},
     "output_type": "display_data"
    },
    {
     "name": "stdout",
     "output_type": "stream",
     "text": [
      "RMSE2test: 1.023765\n",
      "Time: 12.156261\n",
      "\n",
      "Total time:  12967.904564380646\n"
     ]
    }
   ],
   "source": [
    "\n",
    "start = time.time()\n",
    "for stage in tqdm_notebook(range(Stage)):\n",
    "    print('Stage № ', stage, \"\\n\" )\n",
    "    batch_indexes = np.random.choice(N, batch_size)\n",
    "    \n",
    "    Xbatch = X[batch_indexes]\n",
    "    Ybatch = Y[batch_indexes]\n",
    "    #Xbatch = X\n",
    "    #Ybatch = Y\n",
    "    start_stage = time.time()\n",
    "    Xtrain, Xtest, Ytrain, Ytest = train_test_split(Xbatch,Ybatch, test_size = test_part) \n",
    "    nstep = 0\n",
    "    while True:\n",
    "            nstep +=1\n",
    "            \n",
    "            S = foo_S(S,Xtrain,V)\n",
    "            Ypred = Xtrain@W + 1/2 * foo_Y_v(Xtrain, S,V,train_size)\n",
    "            dy = Ytrain - Ypred\n",
    "            #print(Ytrain[:4], Ypred[:4])\n",
    "            Wnew = grad_descent_W(Xtrain,dy, W, lyambda_W/math.sqrt(nstep),train_size)\n",
    "            \n",
    "            for f in range(k):\n",
    "                Vnew[:,f] = grad_descent_V( Xtrain, dy,V[:,f], S[:,f],lyambda_V/math.sqrt(nstep))\n",
    "         \n",
    "            W = Wnew\n",
    "            V = Vnew\n",
    "\n",
    "            \n",
    "            if (nstep>Nsteps):\n",
    "                    break\n",
    "        \n",
    "    Ypred = Xtrain@W + 1/2 * foo_Y_v(Xtrain, foo_S(S,Xtrain,V),V,train_size)\n",
    "    cost.append((np.power(dy,2).sum())/train_size)\n",
    "     \n",
    "    rmse = foo_RMSE(Ytrain,Ypred)\n",
    "    RMSEtrain.append(rmse)\n",
    "    #print (\"RMSE for train: \",rmse) \n",
    "        \n",
    "    r2 = foo_R2(Ytrain,Ypred)\n",
    "    R2train.append(r2)\n",
    "    #print(\"R2 for train: \",r2 , \"\\n\")\n",
    "        \n",
    "     #for test   \n",
    "    Stest = lil_matrix(np.ones((Xtest.shape[0],k)))\n",
    "    Stest = foo_S(Stest,Xtest,V)\n",
    "    Ypred_test = Xtest*W + 1/2 * foo_Y_v(Xtest, Stest,V,Xtest.shape[0])\n",
    "        \n",
    "    rmse = foo_RMSE(Ytest,Ypred_test)\n",
    "    RMSEtest.append(rmse)\n",
    "    #print (\"RMSE for test: \",rmse ) \n",
    "        \n",
    "    r2 = foo_R2(Ytest,Ypred_test)\n",
    "    R2test.append(r2)\n",
    "    #print(\"R2 for test: \",r2,\"\\n\")\n",
    "    \n",
    "    end = time.time()\n",
    "    time_list.append(end - start_stage)\n",
    "    #print( 'Time: ', (end - start_stage),'\\n')\n",
    "    \n",
    "    display.clear_output(wait=True)\n",
    "    plt.figure(figsize=(10, 5))\n",
    "    plt.title(\"R2\")\n",
    "    plt.xlabel(\"#iteration\")\n",
    "    plt.ylabel(\"R2\")\n",
    "    plt.plot( R2train, 'b',label=\"train\")\n",
    "    plt.plot( R2test, 'g',label=\"test\")\n",
    "    plt.show()\n",
    "    \n",
    "    print('R2test: %f' % r2)\n",
    "    \n",
    "    plt.figure(figsize=(10, 5))\n",
    "    plt.title(\"RMSE\")\n",
    "    plt.xlabel(\"#iteration\")\n",
    "    plt.ylabel(\"RMSE\")\n",
    "    plt.plot(RMSEtrain, 'b', label='train')\n",
    "    plt.plot(RMSEtest, 'g', label = 'test')\n",
    "    #plt.plot(cost,'b')\n",
    "    plt.show()\n",
    "    print('RMSE2test: %f' % rmse)\n",
    "\n",
    "    print('Time: %f' % (time.time() - start_stage))\n",
    "    \n",
    "print(\"Total time: \", time.time()-start)"
   ]
  },
  {
   "cell_type": "markdown",
   "metadata": {},
   "source": [
    "# Результаты\n"
   ]
  },
  {
   "cell_type": "code",
   "execution_count": 56,
   "metadata": {},
   "outputs": [
    {
     "name": "stdout",
     "output_type": "stream",
     "text": [
      "Cреднее значение R2train на последних 20 стадий: 0.1002457241\n",
      "Cреднее значение R2test на финальных  20 стадиях: 0.0975440273168\n",
      "Cреднее значение RMSEtrain на последних 20 стадий: 1.0242074111\n",
      "Cреднее значение RMSEtest на финальных  20 стадиях: 1.02931831237\n"
     ]
    }
   ],
   "source": [
    "print( \"Cреднее значение R2train на последних %i стадий:\" %20 ,  np.array(R2train[980:]).sum()/20)\n",
    "print( \"Cреднее значение R2test на финальных  %i стадиях:\" %20 ,  np.array(R2test[980:]).sum()/20)\n",
    "print( \"Cреднее значение RMSEtrain на последних %i стадий:\" %20 , np.array(RMSEtrain[980:]).sum()/20)\n",
    "print( \"Cреднее значение RMSEtest на финальных  %i стадиях:\" %20 , np.array(RMSEtest[980:]).sum()/20)"
   ]
  },
  {
   "cell_type": "code",
   "execution_count": null,
   "metadata": {
    "collapsed": true
   },
   "outputs": [],
   "source": [
    "\n"
   ]
  },
  {
   "cell_type": "code",
   "execution_count": null,
   "metadata": {
    "collapsed": true
   },
   "outputs": [],
   "source": []
  },
  {
   "cell_type": "code",
   "execution_count": null,
   "metadata": {},
   "outputs": [],
   "source": []
  },
  {
   "cell_type": "code",
   "execution_count": null,
   "metadata": {
    "collapsed": true
   },
   "outputs": [],
   "source": []
  }
 ],
 "metadata": {
  "kernelspec": {
   "display_name": "Python 3",
   "language": "python",
   "name": "python3"
  },
  "language_info": {
   "codemirror_mode": {
    "name": "ipython",
    "version": 3
   },
   "file_extension": ".py",
   "mimetype": "text/x-python",
   "name": "python",
   "nbconvert_exporter": "python",
   "pygments_lexer": "ipython3",
   "version": "3.6.3"
  }
 },
 "nbformat": 4,
 "nbformat_minor": 2
}
