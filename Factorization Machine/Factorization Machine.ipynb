{
 "cells": [
  {
   "cell_type": "code",
   "execution_count": 1,
   "metadata": {
    "collapsed": true
   },
   "outputs": [],
   "source": [
    "import numpy as np\n",
    "import math\n",
    "import  re\n",
    "import time\n",
    "from sklearn.model_selection import KFold\n",
    "from scipy.sparse import csr_matrix, hstack\n",
    "from scipy.sparse import csc_matrix\n",
    "from scipy.sparse import coo_matrix\n",
    "from scipy.sparse import lil_matrix\n",
    "import time\n",
    "import math\n",
    "from tqdm import tqdm_notebook \n",
    "from sklearn.model_selection import train_test_split\n",
    "from sklearn.utils import shuffle\n",
    "\n",
    "import matplotlib.pyplot as plt\n",
    "from IPython import display\n",
    "\n",
    "%matplotlib inline"
   ]
  },
  {
   "cell_type": "markdown",
   "metadata": {},
   "source": [
    "Функция *foo_Y_v(...)* возвращает $$ \\sum_{i=1}^{n} \\sum_{j=i+ 1}^{n} (v_i, v_j) x_i x_j $$\n",
    " \n",
    " \n",
    "$$S = \\sum_{j=1}^n v_{j,f} x_j$$"
   ]
  },
  {
   "cell_type": "code",
   "execution_count": 2,
   "metadata": {
    "collapsed": true
   },
   "outputs": [],
   "source": [
    "def foo_Y_v(X,S,V):\n",
    "    Sum = S.power(2).sum(axis = 1) - (X.power(2)*V.power(2)).sum(axis = 1) #((X.power(2))*V[:,f])\n",
    "    return Sum\n",
    "\n",
    "def foo_S(S,X,V):\n",
    "    for f in range(k):\n",
    "        S[:,f] = (X * V[:,f])  \n",
    "    return S\n",
    "\n"
   ]
  },
  {
   "cell_type": "markdown",
   "metadata": {},
   "source": [
    "# Градиенты"
   ]
  },
  {
   "cell_type": "code",
   "execution_count": 3,
   "metadata": {
    "collapsed": true
   },
   "outputs": [],
   "source": [
    "\n",
    "def grad_descent_W(X,dy, W, lyambda): \n",
    "    Wnew = W  + 2* lyambda * (X.T*dy) / X.shape[0] #np.dot(X.T,dy)/N\n",
    "    return Wnew\n",
    "\n",
    "# gradient for V[:,f], v - column V[:,f] \n",
    "def gradient_V (X,v,S):\n",
    "    \n",
    "    grad = X.multiply(S) - (X.power(2)).multiply(v.T) #S - vector S[:,f], v - vector\n",
    "    return grad\n",
    "    \n",
    "def grad_descent_V(X, dy,V, S, lyambda):\n",
    "    #print('1',V[:,f].shape, (g))\n",
    "    Vnew = V + 2 * lyambda * (gradient_V(X, V, S).T*dy) /nfeat  \n",
    "    #print(Vnew.shape) \n",
    "    return Vnew\n"
   ]
  },
  {
   "cell_type": "markdown",
   "metadata": {},
   "source": [
    "# RMSE, $R^2$"
   ]
  },
  {
   "cell_type": "code",
   "execution_count": 4,
   "metadata": {
    "collapsed": true
   },
   "outputs": [],
   "source": [
    "def foo_RMSE(Yt, Ypr):\n",
    "    dy = Yt-Ypr\n",
    "    s = np.power(dy,2).sum()\n",
    "    rmse = math.sqrt( s  / Yt.shape[0] )\n",
    "    return rmse\n",
    "\n",
    "\n",
    "def foo_R2(Yt,Ypr):\n",
    "    Ey = Yt.mean()\n",
    "    r2 = 1 - np.sum(np.power(Ypr-Yt,2)) / np.sum(np.power((Yt - Ey),2))\n",
    "    return r2"
   ]
  },
  {
   "cell_type": "markdown",
   "metadata": {},
   "source": [
    "# Данные"
   ]
  },
  {
   "cell_type": "code",
   "execution_count": 57,
   "metadata": {},
   "outputs": [
    {
     "data": {
      "application/vnd.jupyter.widget-view+json": {
       "model_id": "3a956ed78b8f43ebbf597694e8bf6cb7",
       "version_major": 2,
       "version_minor": 0
      },
      "text/plain": [
       "A Jupyter Widget"
      ]
     },
     "metadata": {},
     "output_type": "display_data"
    },
    {
     "name": "stdout",
     "output_type": "stream",
     "text": [
      "\n"
     ]
    },
    {
     "name": "stderr",
     "output_type": "stream",
     "text": [
      "Exception in thread Thread-12:\n",
      "Traceback (most recent call last):\n",
      "  File \"C:\\Users\\Nuts\\Anaconda3\\lib\\threading.py\", line 916, in _bootstrap_inner\n",
      "    self.run()\n",
      "  File \"C:\\Users\\Nuts\\Anaconda3\\lib\\site-packages\\tqdm\\_tqdm.py\", line 144, in run\n",
      "    for instance in self.tqdm_cls._instances:\n",
      "  File \"C:\\Users\\Nuts\\Anaconda3\\lib\\_weakrefset.py\", line 60, in __iter__\n",
      "    for itemref in self.data:\n",
      "RuntimeError: Set changed size during iteration\n",
      "\n"
     ]
    },
    {
     "name": "stdout",
     "output_type": "stream",
     "text": [
      "\n"
     ]
    }
   ],
   "source": [
    "NumberCustomers = 480189\n",
    "NumberMovies = 17770 \n",
    "f = open('combined_data_1.txt','r')\n",
    "d = dict()\n",
    "n = -1 # col' number  (X' number of line)\n",
    "value = -1 #new CustomerID\n",
    "row = []\n",
    "col = []\n",
    "ratings = []\n",
    "date = []\n",
    "start = time.time()\n",
    "\n",
    "for line in tqdm_notebook(f):\n",
    "    \n",
    "    result = re.match(r'\\d+:',line)\n",
    "    if result is not None:\n",
    "        MovieID = int(re.match(r'\\d+',result.group(0)).group(0))       \n",
    "    else:\n",
    "        if MovieID==5000:\n",
    "            break\n",
    "        SplitLine= re.split(r',',line,maxsplit=2)\n",
    "        KeyCustomerID = int(SplitLine[0])\n",
    "        if KeyCustomerID in d:\n",
    "            #search value by key\n",
    "            CustomerID = d[KeyCustomerID]     \n",
    "        else:\n",
    "            #add (key, value)\n",
    "            value+=1\n",
    "            d.update([(KeyCustomerID,value)])\n",
    "            CustomerID = value    \n",
    "        Rating = int(SplitLine[1])\n",
    "        Date = SplitLine[2]\n",
    "        n+=1\n",
    "        row.append(CustomerID)\n",
    "        col.append(n)\n",
    "        row.append(NumberCustomers + MovieID)\n",
    "        col.append(n)\n",
    "        ratings.append(Rating)\n",
    "        date.append(Date)\n",
    "        \n",
    "\n"
   ]
  },
  {
   "cell_type": "code",
   "execution_count": 58,
   "metadata": {},
   "outputs": [
    {
     "name": "stdout",
     "output_type": "stream",
     "text": [
      "Time:  2965.103371858597\n"
     ]
    }
   ],
   "source": [
    "data = np.ones([len(row)])\n",
    "X = coo_matrix((data, (np.array(col), np.array(row))),dtype=np.int8) \n",
    "Y = csr_matrix(np.array(ratings).reshape(X.shape[0],1))\n",
    "Y = Y.todense()\n",
    "\n",
    "end = time.time()\n",
    "print( 'Time: ', (end - start))"
   ]
  },
  {
   "cell_type": "code",
   "execution_count": 59,
   "metadata": {
    "scrolled": true
   },
   "outputs": [
    {
     "data": {
      "text/plain": [
       "<24053764x484689 sparse matrix of type '<class 'numpy.int8'>'\n",
       "\twith 48107528 stored elements in COOrdinate format>"
      ]
     },
     "execution_count": 59,
     "metadata": {},
     "output_type": "execute_result"
    }
   ],
   "source": [
    "del d\n",
    "del col\n",
    "del row\n",
    "del data\n",
    "\n",
    "X"
   ]
  },
  {
   "cell_type": "markdown",
   "metadata": {},
   "source": [
    "indexes - отсортированные по дате индексы строк"
   ]
  },
  {
   "cell_type": "code",
   "execution_count": 60,
   "metadata": {
    "collapsed": true
   },
   "outputs": [],
   "source": [
    "X = X.tocsr()"
   ]
  },
  {
   "cell_type": "code",
   "execution_count": 61,
   "metadata": {},
   "outputs": [
    {
     "name": "stdout",
     "output_type": "stream",
     "text": [
      "create indexes\n",
      "create train/test indx\n",
      "create train/test set\n"
     ]
    }
   ],
   "source": [
    "print(\"create indexes\")\n",
    "indexes = np.argsort(date)\n",
    "\n",
    "print(\"create train/test indx\")\n",
    "test_size = 500000\n",
    "train_indexes = indexes[:-test_size]\n",
    "test_indexes = indexes[-test_size+1:]\n",
    "\n",
    "train_indexes = shuffle(train_indexes)\n",
    "\n",
    "#split train / test\n",
    "print(\"create train/test set\")\n",
    "Xtrain = X[train_indexes]\n",
    "Ytrain = Y[train_indexes]\n",
    "Xtest = X[test_indexes]\n",
    "Ytest = Y[test_indexes]"
   ]
  },
  {
   "cell_type": "code",
   "execution_count": 62,
   "metadata": {
    "collapsed": true
   },
   "outputs": [],
   "source": [
    "del date"
   ]
  },
  {
   "cell_type": "markdown",
   "metadata": {},
   "source": [
    "# Инициализация"
   ]
  },
  {
   "cell_type": "code",
   "execution_count": 93,
   "metadata": {},
   "outputs": [],
   "source": [
    "Stage = 7 # \n",
    "batch_size = 1000\n",
    "k = 2\n",
    "\n",
    "train_size = Xtrain.shape[0]\n",
    "\n",
    "lyambda_W = 1e-2\n",
    "lyambda_V = 1e-3\n",
    "nfeat = X.shape[1]\n",
    "\n",
    "\n",
    "cost = []\n",
    "RMSEtrain = []\n",
    "RMSEtest = []\n",
    "R2train = []\n",
    "R2test = []\n",
    "time_list=[]"
   ]
  },
  {
   "cell_type": "markdown",
   "metadata": {},
   "source": [
    " W, V"
   ]
  },
  {
   "cell_type": "code",
   "execution_count": 94,
   "metadata": {},
   "outputs": [
    {
     "name": "stdout",
     "output_type": "stream",
     "text": [
      "Total time:  0.4132082462310791\n"
     ]
    }
   ],
   "source": [
    "start = time.time()\n",
    "#X = X.tocsr()\n",
    "W = csr_matrix(np.ones(nfeat).reshape(nfeat,1)) \n",
    "V = csr_matrix(np.ones((nfeat,k)))\n",
    "S = lil_matrix(np.ones((batch_size,k)))# lil\n",
    "Vnew = V.copy()\n",
    "\n",
    "end = time.time()\n",
    "print(\"Total time: \", time.time()-start)"
   ]
  },
  {
   "cell_type": "markdown",
   "metadata": {},
   "source": [
    "# Обучение"
   ]
  },
  {
   "cell_type": "code",
   "execution_count": 95,
   "metadata": {},
   "outputs": [
    {
     "data": {
      "image/png": "[encoded data removed]",
      "text/plain": [
       "<matplotlib.figure.Figure at 0x31b0e276d8>"
      ]
     },
     "metadata": {},
     "output_type": "display_data"
    },
    {
     "name": "stdout",
     "output_type": "stream",
     "text": [
      "R2test: 0.070542\n"
     ]
    },
    {
     "data": {
      "image/png": "[encoded data removed]",
      "text/plain": [
       "<matplotlib.figure.Figure at 0x31803dd208>"
      ]
     },
     "metadata": {},
     "output_type": "display_data"
    },
    {
     "name": "stdout",
     "output_type": "stream",
     "text": [
      "RMSE2test: 1.037806\n",
      "Time: 8481.236104\n",
      "\n",
      "Total time:  62179.39029955864\n"
     ]
    }
   ],
   "source": [
    "shuffle_indexes = np.arange( Xtrain.shape[0])\n",
    "\n",
    "start = time.time()\n",
    "for stage in tqdm_notebook(range(Stage)):\n",
    "    print('Stage № ', stage, \"\\n\" )\n",
    "    start_stage = time.time()\n",
    "    \n",
    "    for i in tqdm_notebook(range(train_size//batch_size)):\n",
    "        Xbatch = Xtrain[i*batch_size:(i+1)*batch_size]\n",
    "        Ybatch = Ytrain[i*batch_size:(i+1)*batch_size]\n",
    "            \n",
    "        S = foo_S(S,Xbatch,V)\n",
    "        Ypred = Xbatch@W + 1/2 * foo_Y_v(Xbatch, S,V)#\n",
    "        dy = Ybatch - Ypred\n",
    "        Wnew = grad_descent_W(Xbatch,dy, W, lyambda_W) #\n",
    "            \n",
    "        for f in range(k):\n",
    "                Vnew[:,f] = grad_descent_V( Xbatch, dy,V[:,f], S[:,f],lyambda_V)\n",
    "         \n",
    "        W = Wnew\n",
    "        V = Vnew\n",
    "    \n",
    "    #перетасовка строк\n",
    "    shuffle_indexes = shuffle(shuffle_indexes)\n",
    "    Xtrain = Xtrain[shuffle_indexes]\n",
    "    Ytrain = Ytrain[shuffle_indexes]\n",
    "\n",
    "        \n",
    "    #Ypred = Xtrain@W + 1/2 * foo_Y_v(Xtrain, foo_S(S,Xtrain,V),V,train_size)\n",
    "    #cost.append((np.power(dy,2).sum())/train_size)\n",
    "     \n",
    "    #rmse = foo_RMSE(Ytrain,Ypred)\n",
    "    #RMSEtrain.append(rmse)\n",
    "    #print (\"RMSE for train: \",rmse) \n",
    "        \n",
    "    #r2 = foo_R2(Ytrain,Ypred)\n",
    "    #R2train.append(r2)\n",
    "    #print(\"R2 for train: \",r2 , \"\\n\")\n",
    "        \n",
    "     #for test   \n",
    "    Stest = lil_matrix(np.ones((Xtest.shape[0],k)))\n",
    "    Stest = foo_S(Stest,Xtest,V)\n",
    "    Ypred_test = Xtest*W + 1/2 * foo_Y_v(Xtest, Stest,V)\n",
    "        \n",
    "    rmse = foo_RMSE(Ytest,Ypred_test)\n",
    "    RMSEtest.append(rmse)\n",
    "    #print (\"RMSE for test: \",rmse ) \n",
    "        \n",
    "    r2 = foo_R2(Ytest,Ypred_test)\n",
    "    R2test.append(r2)\n",
    "    #print(\"R2 for test: \",r2,\"\\n\")\n",
    "    \n",
    "    end = time.time()\n",
    "    time_list.append(end - start_stage)\n",
    "    #print( 'Time: ', (end - start_stage),'\\n')\n",
    "    \n",
    "    display.clear_output(wait=True)\n",
    "    plt.figure(figsize=(10, 5))\n",
    "    plt.title(\"R2\")\n",
    "    plt.xlabel(\"#iteration\")\n",
    "    plt.ylabel(\"R2\")\n",
    "    #plt.plot( R2train, 'b',label=\"train\")\n",
    "    plt.plot( R2test, 'g',label=\"test\")\n",
    "    plt.show()\n",
    "    \n",
    "    print('R2test: %f' % r2)\n",
    "    \n",
    "    plt.figure(figsize=(10, 5))\n",
    "    plt.title(\"RMSE\")\n",
    "    plt.xlabel(\"#iteration\")\n",
    "    plt.ylabel(\"RMSE\")\n",
    "    #plt.plot(RMSEtrain, 'b', label='train')\n",
    "    plt.plot(RMSEtest, 'g', label = 'test')\n",
    "    #plt.plot(cost,'b')\n",
    "    plt.show()\n",
    "    print('RMSE2test: %f' % rmse)\n",
    "\n",
    "    print('Time: %f' % (time.time() - start_stage))\n",
    "    \n",
    "print(\"Total time: \", time.time()-start)"
   ]
  },
  {
   "cell_type": "markdown",
   "metadata": {},
   "source": [
    "# Результаты\n"
   ]
  },
  {
   "cell_type": "markdown",
   "metadata": {},
   "source": [
    "После одного полного прохода тренировочного множества "
   ]
  },
  {
   "cell_type": "code",
   "execution_count": 84,
   "metadata": {},
   "outputs": [
    {
     "name": "stdout",
     "output_type": "stream",
     "text": [
      "rmse =  1.0427788183865119 \n",
      "  r2 =  0.0616127638623\n"
     ]
    }
   ],
   "source": [
    "print(\"rmse = \", rmse, \"\\n \",\"r2 = \", r2)"
   ]
  },
  {
   "cell_type": "code",
   "execution_count": 67,
   "metadata": {
    "collapsed": true
   },
   "outputs": [],
   "source": []
  },
  {
   "cell_type": "code",
   "execution_count": 75,
   "metadata": {},
   "outputs": [],
   "source": [
    "\n"
   ]
  },
  {
   "cell_type": "code",
   "execution_count": null,
   "metadata": {
    "collapsed": true
   },
   "outputs": [],
   "source": []
  }
 ],
 "metadata": {
  "kernelspec": {
   "display_name": "Python 3",
   "language": "python",
   "name": "python3"
  },
  "language_info": {
   "codemirror_mode": {
    "name": "ipython",
    "version": 3
   },
   "file_extension": ".py",
   "mimetype": "text/x-python",
   "name": "python",
   "nbconvert_exporter": "python",
   "pygments_lexer": "ipython3",
   "version": "3.6.3"
  }
 },
 "nbformat": 4,
 "nbformat_minor": 2
}
