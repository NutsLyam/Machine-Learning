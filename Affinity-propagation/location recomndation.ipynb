{
 "cells": [
  {
   "cell_type": "code",
   "execution_count": 1,
   "metadata": {
    "collapsed": true
   },
   "outputs": [],
   "source": [
    "import numpy as np\n",
    "import math\n",
    "import  re\n",
    "import time\n",
    "from tqdm import tqdm_notebook \n",
    "from collections import defaultdict\n",
    "from sklearn.model_selection import train_test_split\n",
    "from functools import reduce"
   ]
  },
  {
   "cell_type": "markdown",
   "metadata": {},
   "source": [
    "Чтение полученного разбиения на кластеры и добавление в словарь"
   ]
  },
  {
   "cell_type": "code",
   "execution_count": 23,
   "metadata": {},
   "outputs": [
    {
     "data": {
      "application/vnd.jupyter.widget-view+json": {
       "model_id": "25dc9cb988074fad894ad30c76efc770",
       "version_major": 2,
       "version_minor": 0
      },
      "text/plain": [
       "A Jupyter Widget"
      ]
     },
     "metadata": {},
     "output_type": "display_data"
    },
    {
     "name": "stdout",
     "output_type": "stream",
     "text": [
      "\n"
     ]
    }
   ],
   "source": [
    "#f = open('fout_exemplars.txt','r')\n",
    "f = open('C:\\\\Users\\\\Nuts\\\\Documents\\\\Visual Studio 2015\\\\Projects\\\\AffinityPropagation\\\\AffinityPropagation\\\\fout_exemplars_06.txt','r')\n",
    "#соответсвие между юзерами и кластремами, ключ: user_id\n",
    "id_cluster = defaultdict()\n",
    "\n",
    "#ключ : n_cluster\n",
    "cluster_id = defaultdict(list)\n",
    "\n",
    "for line in tqdm_notebook(f):\n",
    "    splited_line = re.split(r'\\t',line)\n",
    "    _id = int(splited_line[0])\n",
    "    n_cluster = int(splited_line[1])\n",
    "    id_cluster[_id] = n_cluster\n",
    "    cluster_id[n_cluster].append(_id)\n"
   ]
  },
  {
   "cell_type": "code",
   "execution_count": 39,
   "metadata": {},
   "outputs": [
    {
     "data": {
      "text/plain": [
       "47541"
      ]
     },
     "execution_count": 39,
     "metadata": {},
     "output_type": "execute_result"
    }
   ],
   "source": [
    "len(cluster_id) ## число полученых кластеров"
   ]
  },
  {
   "cell_type": "markdown",
   "metadata": {
    "collapsed": true
   },
   "source": [
    "Чтение локаций и создание словаря, хранящего чекины каждого юзера"
   ]
  },
  {
   "cell_type": "code",
   "execution_count": 25,
   "metadata": {},
   "outputs": [
    {
     "data": {
      "application/vnd.jupyter.widget-view+json": {
       "model_id": "75725c770ae7489cbb9a284ad960b86e",
       "version_major": 2,
       "version_minor": 0
      },
      "text/plain": [
       "A Jupyter Widget"
      ]
     },
     "metadata": {},
     "output_type": "display_data"
    },
    {
     "name": "stdout",
     "output_type": "stream",
     "text": [
      "\n"
     ]
    }
   ],
   "source": [
    "f = open(\"Gowalla_totalCheckins.txt\", \"r\")\n",
    "\n",
    "user_loc = defaultdict(list)\n",
    "\n",
    "for line in tqdm_notebook(f):\n",
    "    splited_line = re.split(r'\\t',line)\n",
    "    user_id = int(splited_line[0])\n",
    "    location_id = int(splited_line[4])\n",
    "    #добавление в словарь\n",
    "    user_loc[user_id].append(location_id)\n",
    "\n",
    "    \n",
    "    "
   ]
  },
  {
   "cell_type": "markdown",
   "metadata": {},
   "source": [
    "Разделение юзеров на тренировочных и тестовых(кому будут строиться рекомендации)"
   ]
  },
  {
   "cell_type": "code",
   "execution_count": 26,
   "metadata": {},
   "outputs": [
    {
     "data": {
      "text/plain": [
       "(107092, 1071)"
      ]
     },
     "execution_count": 26,
     "metadata": {},
     "output_type": "execute_result"
    }
   ],
   "source": [
    "user_ids = user_loc.keys() #только те юзеры, которые имеют локации\n",
    "train_ids,test_ids = train_test_split(list(user_ids), test_size = 0.010)\n",
    "\n",
    "\n",
    "len(user_ids), len(test_ids) # юзеры, имеющие локации (все / тестовые)"
   ]
  },
  {
   "cell_type": "markdown",
   "metadata": {},
   "source": [
    "Создание словаря, хранящего чекины всех юзеров (из train), входящих в данный кластер.\n",
    "\n",
    "key = номер кластера"
   ]
  },
  {
   "cell_type": "code",
   "execution_count": 27,
   "metadata": {},
   "outputs": [
    {
     "data": {
      "text/plain": [
       "35122"
      ]
     },
     "execution_count": 27,
     "metadata": {},
     "output_type": "execute_result"
    }
   ],
   "source": [
    "\n",
    "cluster_loc = defaultdict(list)\n",
    "\n",
    "for i in train_ids:\n",
    "    cluster = id_cluster[i]\n",
    "    locations = user_loc[i]\n",
    "    for location in locations:\n",
    "        cluster_loc[cluster].append(location)\n",
    "len(cluster_loc) #число кластеров,попавших в train"
   ]
  },
  {
   "cell_type": "markdown",
   "metadata": {
    "collapsed": true
   },
   "source": [
    "Подсчет качества рекомендаций"
   ]
  },
  {
   "cell_type": "code",
   "execution_count": 28,
   "metadata": {
    "collapsed": true
   },
   "outputs": [],
   "source": [
    "n = 10 #количество учитываемых топ-локаций"
   ]
  },
  {
   "cell_type": "code",
   "execution_count": 29,
   "metadata": {},
   "outputs": [
    {
     "data": {
      "application/vnd.jupyter.widget-view+json": {
       "model_id": "0bf3645863064b4caa226c8d7494fdd0",
       "version_major": 2,
       "version_minor": 0
      },
      "text/plain": [
       "A Jupyter Widget"
      ]
     },
     "metadata": {},
     "output_type": "display_data"
    },
    {
     "name": "stdout",
     "output_type": "stream",
     "text": [
      "\n"
     ]
    },
    {
     "data": {
      "text/plain": [
       "2449"
      ]
     },
     "execution_count": 29,
     "metadata": {},
     "output_type": "execute_result"
    }
   ],
   "source": [
    "_sum = 0\n",
    "\n",
    "for _id in tqdm_notebook(test_ids):\n",
    "    start = time.time()\n",
    "   \n",
    "    cluster = id_cluster[_id]\n",
    "    #полный список предсказанных локаций (несортированных по частоте встречаемости)\n",
    "    predict_loc = cluster_loc[cluster]\n",
    "    #print(_id, cluster, len(predict_loc))\n",
    "\n",
    "    \n",
    "    #сортировка по частоте встречаемости\n",
    "    predict_loc = sorted(predict_loc,key=predict_loc.count,reverse=True)\n",
    "    #print(\"after sort\",_id, cluster, len(predict_loc))\n",
    "\n",
    "    \n",
    "    #оставить единственный экземпляр, сохраняя порядок сортировки\n",
    "    predict_loc = reduce(lambda l,x:l+[x] if x not in l else l, predict_loc,[])\n",
    "   \n",
    "    \n",
    "    #дополнить \"ошибками\" если меньше 10 локаций в кластере\n",
    "    while len(predict_loc) < n:\n",
    "        predict_loc.append(-1)   \n",
    "    \n",
    "    #if len(predict_loc)>20000:\n",
    "        #print(\"time: \", time.time() - start)\n",
    "        \n",
    "    # изменить значение в словаре, оставив только 10 популярных локаций     \n",
    "    cluster_loc[cluster] = predict_loc[:n] \n",
    "     \n",
    "    #истинные локации юзера\n",
    "    current_loc = user_loc[_id]\n",
    "    \n",
    "    #прибавление числа пересечений 10 предсказанных с реальными локациями юзера\n",
    "    _sum+= len(set(predict_loc[:n])&set(current_loc))\n",
    "    #print(\"sum = \", _sum)\n",
    "_sum    "
   ]
  },
  {
   "cell_type": "code",
   "execution_count": 30,
   "metadata": {},
   "outputs": [
    {
     "data": {
      "text/plain": [
       "0.22866479925303454"
      ]
     },
     "execution_count": 30,
     "metadata": {},
     "output_type": "execute_result"
    }
   ],
   "source": [
    "\n",
    "#максимальное число пересечений для всех тестовых юзеров\n",
    "test_sum = n * len(test_ids) \n",
    "\n",
    "#отношение полученной суммы к максимально возможной\n",
    "_sum / test_sum\n"
   ]
  },
  {
   "cell_type": "code",
   "execution_count": 32,
   "metadata": {
    "collapsed": true
   },
   "outputs": [],
   "source": [
    "import matplotlib.mlab as mlab\n",
    "import matplotlib.pyplot as plt"
   ]
  },
  {
   "cell_type": "code",
   "execution_count": null,
   "metadata": {
    "collapsed": true
   },
   "outputs": [],
   "source": []
  },
  {
   "cell_type": "code",
   "execution_count": 33,
   "metadata": {
    "collapsed": true
   },
   "outputs": [],
   "source": [
    "#сортировка по числу юзеров, входящих в каждый кластер\n",
    "sorted_by_value = sorted(cluster_id.items(), key=lambda kv: len(kv[1]), reverse=True)"
   ]
  },
  {
   "cell_type": "markdown",
   "metadata": {},
   "source": [
    "Самые большие кластеры"
   ]
  },
  {
   "cell_type": "code",
   "execution_count": 34,
   "metadata": {},
   "outputs": [
    {
     "name": "stdout",
     "output_type": "stream",
     "text": [
      "# 220 : 4709\n",
      "# 440 : 1561\n",
      "# 505 : 1533\n",
      "# 1149 : 1333\n",
      "# 459 : 724\n",
      "# 527 : 638\n",
      "# 207 : 411\n",
      "# 615 : 410\n",
      "# 2215 : 404\n",
      "# 3 : 387\n",
      "# 4370 : 242\n",
      "# 2196 : 240\n",
      "# 604 : 227\n",
      "# 1431 : 226\n",
      "# 4336 : 207\n",
      "# 2169 : 200\n",
      "# 1614 : 200\n",
      "# 1450 : 196\n",
      "# 2186 : 188\n",
      "# 854 : 181\n"
     ]
    }
   ],
   "source": [
    "for key, users in sorted_by_value[:20]:\n",
    "    print(\"#\",key, ':', len(users))"
   ]
  },
  {
   "cell_type": "code",
   "execution_count": 35,
   "metadata": {
    "collapsed": true
   },
   "outputs": [],
   "source": [
    "x1 = [] #для кластеров размером (1..10) юзеров\n",
    "x10 = []  #[10..100]\n",
    "x100 = []\n",
    "x1000 = []\n",
    "\n",
    "for key in range(len(sorted_by_value)):\n",
    "    value = len(sorted_by_value[key][1])\n",
    "    if value >1000:\n",
    "        x1000.append(value)\n",
    "    elif value > 100:\n",
    "        x100.append(value)\n",
    "    elif value >10 :\n",
    "        x10.append(value)\n",
    "    else : x1.append(value)\n",
    "    \n",
    "    \n"
   ]
  },
  {
   "cell_type": "code",
   "execution_count": 36,
   "metadata": {
    "collapsed": true
   },
   "outputs": [],
   "source": [
    "def histogram(x, n_bins, color, title):\n",
    "    plt.title('Размер кластеров %s' %title)\n",
    "    plt.ylabel('Количество кластеров')\n",
    "    plt.xlabel('Число пользователей в кластере')\n",
    "    n, bins, patches = plt.hist(x, n_bins, facecolor=color, alpha=0.5)\n",
    "    plt.show()\n"
   ]
  },
  {
   "cell_type": "code",
   "execution_count": 40,
   "metadata": {},
   "outputs": [
    {
     "data": {
      "image/png": "[encoded data removed]",
      "text/plain": [
       "<matplotlib.figure.Figure at 0x949a7e2e8>"
      ]
     },
     "metadata": {},
     "output_type": "display_data"
    },
    {
     "data": {
      "image/png": "[encoded data removed]",
      "text/plain": [
       "<matplotlib.figure.Figure at 0x95f586128>"
      ]
     },
     "metadata": {},
     "output_type": "display_data"
    },
    {
     "data": {
      "image/png": "[encoded data removed]",
      "text/plain": [
       "<matplotlib.figure.Figure at 0x94e12a470>"
      ]
     },
     "metadata": {},
     "output_type": "display_data"
    },
    {
     "data": {
      "image/png": "[encoded data removed]",
      "text/plain": [
       "<matplotlib.figure.Figure at 0x948ca8550>"
      ]
     },
     "metadata": {},
     "output_type": "display_data"
    }
   ],
   "source": [
    "histogram(x1, 9, 'blue', '<10')\n",
    "histogram(x10, 10, 'red', '<100')\n",
    "histogram(x100, 10, 'orange', '<1000')\n",
    "histogram(x1000, 10, 'green', '>1000')"
   ]
  },
  {
   "cell_type": "code",
   "execution_count": null,
   "metadata": {
    "collapsed": true
   },
   "outputs": [],
   "source": []
  }
 ],
 "metadata": {
  "kernelspec": {
   "display_name": "Python 3",
   "language": "python",
   "name": "python3"
  },
  "language_info": {
   "codemirror_mode": {
    "name": "ipython",
    "version": 3
   },
   "file_extension": ".py",
   "mimetype": "text/x-python",
   "name": "python",
   "nbconvert_exporter": "python",
   "pygments_lexer": "ipython3",
   "version": "3.6.3"
  }
 },
 "nbformat": 4,
 "nbformat_minor": 2
}
