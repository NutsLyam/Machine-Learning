{
 "cells": [
  {
   "cell_type": "code",
   "execution_count": 2,
   "metadata": {
    "collapsed": true
   },
   "outputs": [],
   "source": [
    "import numpy as np\n",
    "import math\n",
    "import  re\n",
    "import time\n",
    "from tqdm import tqdm_notebook \n",
    "from collections import defaultdict\n",
    "from sklearn.model_selection import train_test_split\n",
    "from functools import reduce"
   ]
  },
  {
   "cell_type": "markdown",
   "metadata": {},
   "source": [
    "Чтение полученного разбиения на кластеры и добавление в словарь"
   ]
  },
  {
   "cell_type": "code",
   "execution_count": 57,
   "metadata": {},
   "outputs": [
    {
     "data": {
      "application/vnd.jupyter.widget-view+json": {
       "model_id": "318eb518cd864c2eb869a69752975f63",
       "version_major": 2,
       "version_minor": 0
      },
      "text/plain": [
       "A Jupyter Widget"
      ]
     },
     "metadata": {},
     "output_type": "display_data"
    },
    {
     "name": "stdout",
     "output_type": "stream",
     "text": [
      "\n"
     ]
    }
   ],
   "source": [
    "#f = open('fout_exemplars.txt','r')\n",
    "f = open('C:\\\\Users\\\\Nuts\\\\Documents\\\\Visual Studio 2015\\\\Projects\\\\AffinityPropagation\\\\AffinityPropagation\\\\fout_exemplars.txt','r')\n",
    "#соответсвие между юзерами и кластремами, ключ: user_id\n",
    "id_cluster = defaultdict()\n",
    "\n",
    "for line in tqdm_notebook(f):\n",
    "    splited_line = re.split(r'\\t',line)\n",
    "    _id = int(splited_line[0])\n",
    "    n_cluster = int(splited_line[1])\n",
    "    id_cluster[_id] = n_cluster\n"
   ]
  },
  {
   "cell_type": "code",
   "execution_count": 58,
   "metadata": {},
   "outputs": [
    {
     "data": {
      "text/plain": [
       "47618"
      ]
     },
     "execution_count": 58,
     "metadata": {},
     "output_type": "execute_result"
    }
   ],
   "source": [
    "len(set(id_cluster.values())) ## число полученых кластеров"
   ]
  },
  {
   "cell_type": "markdown",
   "metadata": {
    "collapsed": true
   },
   "source": [
    "Чтение локаций и создание словаря, хранящего чекины каждого юзера"
   ]
  },
  {
   "cell_type": "code",
   "execution_count": 29,
   "metadata": {},
   "outputs": [
    {
     "data": {
      "application/vnd.jupyter.widget-view+json": {
       "model_id": "976dcaaa0a784170b4a93c91063362eb",
       "version_major": 2,
       "version_minor": 0
      },
      "text/plain": [
       "A Jupyter Widget"
      ]
     },
     "metadata": {},
     "output_type": "display_data"
    },
    {
     "name": "stdout",
     "output_type": "stream",
     "text": [
      "\n"
     ]
    }
   ],
   "source": [
    "f = open(\"Gowalla_totalCheckins.txt\", \"r\")\n",
    "\n",
    "user_loc = defaultdict(list)\n",
    "\n",
    "for line in tqdm_notebook(f):\n",
    "    splited_line = re.split(r'\\t',line)\n",
    "    user_id = int(splited_line[0])\n",
    "    location_id = int(splited_line[4])\n",
    "    #добавление в словарь\n",
    "    user_loc[user_id].append(location_id)\n",
    "\n",
    "    \n",
    "    "
   ]
  },
  {
   "cell_type": "markdown",
   "metadata": {},
   "source": [
    "Разделение юзеров на тренировочных и тестовых(кому будут строиться рекомендации)"
   ]
  },
  {
   "cell_type": "code",
   "execution_count": 65,
   "metadata": {
    "collapsed": true
   },
   "outputs": [],
   "source": [
    "\n",
    "user_ids = user_loc.keys() #только те юзеры, которые имеют локации\n",
    "train_ids,test_ids = train_test_split(list(user_ids), test_size = 0.010)\n"
   ]
  },
  {
   "cell_type": "code",
   "execution_count": 60,
   "metadata": {},
   "outputs": [
    {
     "data": {
      "text/plain": [
       "(107092, 1071)"
      ]
     },
     "execution_count": 60,
     "metadata": {},
     "output_type": "execute_result"
    }
   ],
   "source": [
    "len(user_ids), len(test_ids) # юзеры, имеющие локации (все / тестовые)"
   ]
  },
  {
   "cell_type": "markdown",
   "metadata": {},
   "source": [
    "Создание словаря, хранящего чекины всех юзеров (из train), входящих в данный кластер.\n",
    "\n",
    "key = номер кластера"
   ]
  },
  {
   "cell_type": "code",
   "execution_count": 52,
   "metadata": {
    "collapsed": true
   },
   "outputs": [],
   "source": [
    "cluster_loc = defaultdict(list)\n",
    "\n",
    "for i in train_ids:\n",
    "    cluster = id_cluster[i]\n",
    "    locations = user_loc[i]\n",
    "    for location in locations:\n",
    "        cluster_loc[cluster].append(location)"
   ]
  },
  {
   "cell_type": "code",
   "execution_count": 53,
   "metadata": {},
   "outputs": [
    {
     "data": {
      "text/plain": [
       "34631"
      ]
     },
     "execution_count": 53,
     "metadata": {},
     "output_type": "execute_result"
    }
   ],
   "source": [
    "len(cluster_loc) #число кластеров,попавших в train"
   ]
  },
  {
   "cell_type": "markdown",
   "metadata": {
    "collapsed": true
   },
   "source": [
    "Подсчет качества рекомендаций"
   ]
  },
  {
   "cell_type": "code",
   "execution_count": null,
   "metadata": {
    "collapsed": true
   },
   "outputs": [],
   "source": []
  },
  {
   "cell_type": "code",
   "execution_count": 66,
   "metadata": {},
   "outputs": [
    {
     "data": {
      "application/vnd.jupyter.widget-view+json": {
       "model_id": "323d5e10e7c5427c91243ef9781ac123",
       "version_major": 2,
       "version_minor": 0
      },
      "text/plain": [
       "A Jupyter Widget"
      ]
     },
     "metadata": {},
     "output_type": "display_data"
    },
    {
     "name": "stdout",
     "output_type": "stream",
     "text": [
      "\n"
     ]
    }
   ],
   "source": [
    "\n",
    "_sum = 0\n",
    "\n",
    "for _id in tqdm_notebook(test_ids):\n",
    "    start = time.time()\n",
    "   \n",
    "    cluster = id_cluster[_id]\n",
    "    #полный список предсказанных локаций (несортированных по частоте встречаемости)\n",
    "    predict_loc = cluster_loc[cluster]\n",
    "    #print(_id, cluster, len(predict_loc))\n",
    "\n",
    "    \n",
    "    #сортировка по частоте встречаемости\n",
    "    predict_loc = sorted(predict_loc,key=predict_loc.count,reverse=True)\n",
    "    #print(\"after sort\",_id, cluster, len(predict_loc))\n",
    "\n",
    "    \n",
    "    #оставить единственный экземпляр, сохраняя порядок сортировки\n",
    "    predict_loc = reduce(lambda l,x:l+[x] if x not in l else l, predict_loc,[])\n",
    "   \n",
    "    \n",
    "    #дополнить \"ошибками\" если меньше 10 локаций в кластере\n",
    "    while len(predict_loc) < 10:\n",
    "        predict_loc.append(-1)   \n",
    "    \n",
    "    #if len(predict_loc)>20000:\n",
    "        #print(\"time: \", time.time() - start)\n",
    "        \n",
    "    # изменить значение в словаре, оставив только 10 популярных локаций     \n",
    "    cluster_loc[cluster] = predict_loc[:10] \n",
    "     \n",
    "    #истинные локации юзера\n",
    "    current_loc = user_loc[_id]\n",
    "    \n",
    "    #прибавление числа пересечений 10 предсказанных с реальными локациями юзера\n",
    "    _sum+= len(set(predict_loc[:10])&set(current_loc))\n",
    "    #print(\"sum = \", _sum)\n",
    "    "
   ]
  },
  {
   "cell_type": "code",
   "execution_count": 68,
   "metadata": {},
   "outputs": [
    {
     "data": {
      "text/plain": [
       "0.25359477124183005"
      ]
     },
     "execution_count": 68,
     "metadata": {},
     "output_type": "execute_result"
    }
   ],
   "source": [
    "#максимальное число пересечений для всех тестовых юзеров\n",
    "test_sum = 10 * len(test_ids) \n",
    "\n",
    "#отношение полученной суммы к максимально возможной\n",
    "_sum / test_sum\n"
   ]
  },
  {
   "cell_type": "code",
   "execution_count": 67,
   "metadata": {},
   "outputs": [
    {
     "data": {
      "text/plain": [
       "2716"
      ]
     },
     "execution_count": 67,
     "metadata": {},
     "output_type": "execute_result"
    }
   ],
   "source": [
    "_sum"
   ]
  },
  {
   "cell_type": "code",
   "execution_count": null,
   "metadata": {},
   "outputs": [],
   "source": []
  },
  {
   "cell_type": "code",
   "execution_count": null,
   "metadata": {
    "collapsed": true
   },
   "outputs": [],
   "source": []
  }
 ],
 "metadata": {
  "kernelspec": {
   "display_name": "Python 3",
   "language": "python",
   "name": "python3"
  },
  "language_info": {
   "codemirror_mode": {
    "name": "ipython",
    "version": 3
   },
   "file_extension": ".py",
   "mimetype": "text/x-python",
   "name": "python",
   "nbconvert_exporter": "python",
   "pygments_lexer": "ipython3",
   "version": "3.6.3"
  }
 },
 "nbformat": 4,
 "nbformat_minor": 2
}
